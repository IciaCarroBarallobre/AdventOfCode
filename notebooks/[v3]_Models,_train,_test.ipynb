{
  "nbformat": 4,
  "nbformat_minor": 0,
  "metadata": {
    "colab": {
      "name": "[v3] Models, train, test ",
      "provenance": [],
      "collapsed_sections": [
        "lP2O6HaIwRwj",
        "t7BJTKNFFIyM",
        "GJBs_flRovLc",
        "-0Ieqj5uJPgm",
        "DNmNLHTG8YR3",
        "OzwO6Bh3EOBi",
        "ni_xti5eQ4ut"
      ],
      "machine_shape": "hm",
      "include_colab_link": true
    },
    "kernelspec": {
      "display_name": "Python 3",
      "name": "python3"
    },
    "accelerator": "GPU",
    "widgets": {
      "application/vnd.jupyter.widget-state+json": {
        "1f11e7c7dd31466fa2045906b4f4224e": {
          "model_module": "@jupyter-widgets/controls",
          "model_name": "HBoxModel",
          "state": {
            "_view_name": "HBoxView",
            "_dom_classes": [],
            "_model_name": "HBoxModel",
            "_view_module": "@jupyter-widgets/controls",
            "_model_module_version": "1.5.0",
            "_view_count": null,
            "_view_module_version": "1.5.0",
            "box_style": "",
            "layout": "IPY_MODEL_ff06258e9e35454a84e674ad1378e114",
            "_model_module": "@jupyter-widgets/controls",
            "children": [
              "IPY_MODEL_43de220d63fa4640901d4798afdf4bd3",
              "IPY_MODEL_0bee5da37bf14f738e4a9ee6a4aab5b0"
            ]
          }
        },
        "ff06258e9e35454a84e674ad1378e114": {
          "model_module": "@jupyter-widgets/base",
          "model_name": "LayoutModel",
          "state": {
            "_view_name": "LayoutView",
            "grid_template_rows": null,
            "right": null,
            "justify_content": null,
            "_view_module": "@jupyter-widgets/base",
            "overflow": null,
            "_model_module_version": "1.2.0",
            "_view_count": null,
            "flex_flow": null,
            "width": null,
            "min_width": null,
            "border": null,
            "align_items": null,
            "bottom": null,
            "_model_module": "@jupyter-widgets/base",
            "top": null,
            "grid_column": null,
            "overflow_y": null,
            "overflow_x": null,
            "grid_auto_flow": null,
            "grid_area": null,
            "grid_template_columns": null,
            "flex": null,
            "_model_name": "LayoutModel",
            "justify_items": null,
            "grid_row": null,
            "max_height": null,
            "align_content": null,
            "visibility": null,
            "align_self": null,
            "height": null,
            "min_height": null,
            "padding": null,
            "grid_auto_rows": null,
            "grid_gap": null,
            "max_width": null,
            "order": null,
            "_view_module_version": "1.2.0",
            "grid_template_areas": null,
            "object_position": null,
            "object_fit": null,
            "grid_auto_columns": null,
            "margin": null,
            "display": null,
            "left": null
          }
        },
        "43de220d63fa4640901d4798afdf4bd3": {
          "model_module": "@jupyter-widgets/controls",
          "model_name": "FloatProgressModel",
          "state": {
            "_view_name": "ProgressView",
            "style": "IPY_MODEL_31ee2fb179e24d7197cca535ead260bf",
            "_dom_classes": [],
            "description": "100%",
            "_model_name": "FloatProgressModel",
            "bar_style": "success",
            "max": 115730790,
            "_view_module": "@jupyter-widgets/controls",
            "_model_module_version": "1.5.0",
            "value": 115730790,
            "_view_count": null,
            "_view_module_version": "1.5.0",
            "orientation": "horizontal",
            "min": 0,
            "description_tooltip": null,
            "_model_module": "@jupyter-widgets/controls",
            "layout": "IPY_MODEL_6ac0a678100647e8a9d13d9c2b4e4835"
          }
        },
        "0bee5da37bf14f738e4a9ee6a4aab5b0": {
          "model_module": "@jupyter-widgets/controls",
          "model_name": "HTMLModel",
          "state": {
            "_view_name": "HTMLView",
            "style": "IPY_MODEL_7cff11cec023455eb20a4c8aeb7adaa9",
            "_dom_classes": [],
            "description": "",
            "_model_name": "HTMLModel",
            "placeholder": "​",
            "_view_module": "@jupyter-widgets/controls",
            "_model_module_version": "1.5.0",
            "value": " 110M/110M [00:01&lt;00:00, 64.3MB/s]",
            "_view_count": null,
            "_view_module_version": "1.5.0",
            "description_tooltip": null,
            "_model_module": "@jupyter-widgets/controls",
            "layout": "IPY_MODEL_a23d8449073b4d00abe066dfe741df63"
          }
        },
        "31ee2fb179e24d7197cca535ead260bf": {
          "model_module": "@jupyter-widgets/controls",
          "model_name": "ProgressStyleModel",
          "state": {
            "_view_name": "StyleView",
            "_model_name": "ProgressStyleModel",
            "description_width": "initial",
            "_view_module": "@jupyter-widgets/base",
            "_model_module_version": "1.5.0",
            "_view_count": null,
            "_view_module_version": "1.2.0",
            "bar_color": null,
            "_model_module": "@jupyter-widgets/controls"
          }
        },
        "6ac0a678100647e8a9d13d9c2b4e4835": {
          "model_module": "@jupyter-widgets/base",
          "model_name": "LayoutModel",
          "state": {
            "_view_name": "LayoutView",
            "grid_template_rows": null,
            "right": null,
            "justify_content": null,
            "_view_module": "@jupyter-widgets/base",
            "overflow": null,
            "_model_module_version": "1.2.0",
            "_view_count": null,
            "flex_flow": null,
            "width": null,
            "min_width": null,
            "border": null,
            "align_items": null,
            "bottom": null,
            "_model_module": "@jupyter-widgets/base",
            "top": null,
            "grid_column": null,
            "overflow_y": null,
            "overflow_x": null,
            "grid_auto_flow": null,
            "grid_area": null,
            "grid_template_columns": null,
            "flex": null,
            "_model_name": "LayoutModel",
            "justify_items": null,
            "grid_row": null,
            "max_height": null,
            "align_content": null,
            "visibility": null,
            "align_self": null,
            "height": null,
            "min_height": null,
            "padding": null,
            "grid_auto_rows": null,
            "grid_gap": null,
            "max_width": null,
            "order": null,
            "_view_module_version": "1.2.0",
            "grid_template_areas": null,
            "object_position": null,
            "object_fit": null,
            "grid_auto_columns": null,
            "margin": null,
            "display": null,
            "left": null
          }
        },
        "7cff11cec023455eb20a4c8aeb7adaa9": {
          "model_module": "@jupyter-widgets/controls",
          "model_name": "DescriptionStyleModel",
          "state": {
            "_view_name": "StyleView",
            "_model_name": "DescriptionStyleModel",
            "description_width": "",
            "_view_module": "@jupyter-widgets/base",
            "_model_module_version": "1.5.0",
            "_view_count": null,
            "_view_module_version": "1.2.0",
            "_model_module": "@jupyter-widgets/controls"
          }
        },
        "a23d8449073b4d00abe066dfe741df63": {
          "model_module": "@jupyter-widgets/base",
          "model_name": "LayoutModel",
          "state": {
            "_view_name": "LayoutView",
            "grid_template_rows": null,
            "right": null,
            "justify_content": null,
            "_view_module": "@jupyter-widgets/base",
            "overflow": null,
            "_model_module_version": "1.2.0",
            "_view_count": null,
            "flex_flow": null,
            "width": null,
            "min_width": null,
            "border": null,
            "align_items": null,
            "bottom": null,
            "_model_module": "@jupyter-widgets/base",
            "top": null,
            "grid_column": null,
            "overflow_y": null,
            "overflow_x": null,
            "grid_auto_flow": null,
            "grid_area": null,
            "grid_template_columns": null,
            "flex": null,
            "_model_name": "LayoutModel",
            "justify_items": null,
            "grid_row": null,
            "max_height": null,
            "align_content": null,
            "visibility": null,
            "align_self": null,
            "height": null,
            "min_height": null,
            "padding": null,
            "grid_auto_rows": null,
            "grid_gap": null,
            "max_width": null,
            "order": null,
            "_view_module_version": "1.2.0",
            "grid_template_areas": null,
            "object_position": null,
            "object_fit": null,
            "grid_auto_columns": null,
            "margin": null,
            "display": null,
            "left": null
          }
        }
      }
    }
  },
  "cells": [
    {
      "cell_type": "markdown",
      "metadata": {
        "id": "view-in-github",
        "colab_type": "text"
      },
      "source": [
        "<a href=\"https://colab.research.google.com/github/IciaCarroBarallobre/AdventOfCode/blob/main/notebooks/%5Bv3%5D_Models%2C_train%2C_test.ipynb\" target=\"_parent\"><img src=\"https://colab.research.google.com/assets/colab-badge.svg\" alt=\"Open In Colab\"/></a>"
      ]
    },
    {
      "cell_type": "markdown",
      "metadata": {
        "id": "5fCEDCU_qrC0"
      },
      "source": [
        "\n",
        "# Models, train e test\n",
        "\n",
        "\n",
        "\n"
      ]
    },
    {
      "cell_type": "markdown",
      "metadata": {
        "id": "fHJwIXnmFVWL"
      },
      "source": [
        " ## Drive "
      ]
    },
    {
      "cell_type": "code",
      "metadata": {
        "colab": {
          "base_uri": "https://localhost:8080/"
        },
        "id": "3d-sff0BfYff",
        "outputId": "500618e3-14ef-4fec-85ed-7c8c6ebdc61f"
      },
      "source": [
        "from google.colab import drive\n",
        "drive.mount(\"/content/drive/\", force_remount=True)"
      ],
      "execution_count": 1,
      "outputs": [
        {
          "output_type": "stream",
          "text": [
            "Mounted at /content/drive/\n"
          ],
          "name": "stdout"
        }
      ]
    },
    {
      "cell_type": "markdown",
      "metadata": {
        "id": "6rs2o9X9PsH7"
      },
      "source": [
        "## Hiperparametros"
      ]
    },
    {
      "cell_type": "code",
      "metadata": {
        "id": "ViW719zKP5oP"
      },
      "source": [
        "#################    DATASET    ##############################\n",
        "ROOT = '/content/drive/My Drive/TFG/'\n",
        "ROOT_DATA = ROOT + 'data/'\n",
        "ROOT_DATASETS = ROOT_DATA +'datasets/'\n",
        "DATASET = 'subrolldataset'\n",
        "OCT_DEVICE = 'SPECTRALIS'\n",
        "CLASS = \"SRD\" # DME - DRT SRD CME\n",
        "LABELS_CSV = \"/info.csv\" # \"/info.csv\"\n",
        "\n",
        "\n",
        "################     MODEL    ##################################\n",
        "MODEL_STR = 'Densenet161' \n",
        "OPTIM, LR  = 'Adam', 0.001\n",
        "DEBUG = 1\n",
        "EPOCHS = 200\n",
        "PATIENCE = 20\n",
        "BATCH = 16 # More than 16, cuda out of memory"
      ],
      "execution_count": 2,
      "outputs": []
    },
    {
      "cell_type": "markdown",
      "metadata": {
        "id": "lP2O6HaIwRwj"
      },
      "source": [
        "## Imports "
      ]
    },
    {
      "cell_type": "code",
      "metadata": {
        "id": "gnLehldV59kF"
      },
      "source": [
        "import math\n",
        "import os\n",
        "import itertools\n",
        "import numpy as np\n",
        "import pandas as pd\n",
        "import random \n",
        "import seaborn as sns\n",
        "\n",
        "import torchvision\n",
        "from torchvision import  models, transforms\n",
        "\n",
        "import torch \n",
        "from torch import nn, optim\n",
        "from torch.utils.data import Dataset, DataLoader, random_split, Subset\n",
        "from sklearn.model_selection import KFold\n",
        "\n",
        "from PIL import Image \n",
        "import matplotlib.pyplot as plt\n",
        "\n",
        "import sklearn\n",
        "from sklearn.metrics import classification_report, multilabel_confusion_matrix, roc_auc_score\n",
        "from sklearn.model_selection import train_test_split\n",
        "import seaborn as sn"
      ],
      "execution_count": 3,
      "outputs": []
    },
    {
      "cell_type": "markdown",
      "metadata": {
        "id": "t7BJTKNFFIyM"
      },
      "source": [
        "## Dataset "
      ]
    },
    {
      "cell_type": "markdown",
      "metadata": {
        "id": "GJBs_flRovLc"
      },
      "source": [
        "\n",
        "### <strong> OCTDataset:  </strong> Subclase de [dataset](https://pytorch.org/docs/stable/data.html#torch.utils.data.Dataset)\n"
      ]
    },
    {
      "cell_type": "markdown",
      "metadata": {
        "id": "fLh7ageMViB-"
      },
      "source": [
        "**Dataset** é unha clase abstracta que representa a un conxunto de  **samples**. Un **sample** é unha **dupla** (input,label). \n",
        "\n",
        "As subclases de dataset poden sobrescribir as seguintes funcións:\n",
        "\n",
        "*   *__getitem __(self,idx)* [OBL]: Obten un sample para unha  determinada clave  *idx*. \n",
        "*   *__len __ ()*[OPT]: Devolve o tamaño do conxunto de datos.\n"
      ]
    },
    {
      "cell_type": "code",
      "metadata": {
        "id": "gJr_9dXGpJ05"
      },
      "source": [
        "class OCTDataset(Dataset):\n",
        "\n",
        "    def __init__(self, root, device = None,transform=None):\n",
        "        self.root = root\n",
        "        self.transform = transform\n",
        "        self.device = device\n",
        "        self.annotations = pd.read_csv(root+\"/info.csv\") \n",
        "\n",
        "        if self.device is not None:\n",
        "          self.annotations = (self.annotations [self.annotations [\"device\"] == device]).reset_index(drop=True)\n",
        "\n",
        "\n",
        "    def __len__(self):\n",
        "        return len(self.annotations)\n",
        "\n",
        "    def __getitem__(self,idx):\n",
        "        image = Image.open(self.annotations[\"root\"][idx] ).convert('RGB')\n",
        "        if self.transform:\n",
        "            image = self.transform(image)\n",
        "        \n",
        "        cme = self.annotations[\"CME\"][idx]\n",
        "        srd = self.annotations[\"SRD\"][idx]\n",
        "        drt = self.annotations[\"DRT\"][idx]\n",
        "\n",
        "        label = np.array([cme,srd,drt])\n",
        "        name =  self.annotations[\"name\"][idx] \n",
        "        \n",
        "        return image, label, name #sample\n",
        "\n",
        "    def info(self):\n",
        "      return self.annotations"
      ],
      "execution_count": 4,
      "outputs": []
    },
    {
      "cell_type": "markdown",
      "metadata": {
        "id": "-0Ieqj5uJPgm"
      },
      "source": [
        "### **DataLoader**: Dataset to Iterable\n",
        "\n",
        "Para poder iterar sobre un dataset necesitamos un [dataloader](https://pytorch.org/docs/stable/data.html#torch.utils.data.DataLoader).  \n",
        "\n",
        "\n"
      ]
    },
    {
      "cell_type": "code",
      "metadata": {
        "id": "RZzq9sNdK0ol"
      },
      "source": [
        "class KFolds():\n",
        "\n",
        "  def __init__ (self, root_dataset_dir, n_folds):\n",
        "    self.to_return = 0\n",
        "    self.n_folds = n_folds\n",
        "    self.root =  root_dataset_dir\n",
        "    image_transforms =  transforms.Compose([\n",
        "        transforms.Resize((224,224)), \n",
        "        transforms.RandomHorizontalFlip(p = 0.5), # Poden aparecer patrones en calquer dir\n",
        "        transforms.ToTensor() #Os anteriores traballan con PIL, non con tensores\n",
        "        ])\n",
        "\n",
        "    self.dataset = OCTDataset(root_dataset_dir, device=OCT_DEVICE, transform=image_transforms)\n",
        "    self.folds = self.random_split_by_idxs_in_folds(self.dataset, self.n_folds)  \n",
        "\n",
        "\n",
        "  def get_dataloaders(self):\n",
        "      val_fold_idx, test_fold_idx =  (1 +  self.to_return)  % self.n_folds, self.to_return\n",
        "      train_fold_idx = list(set(range(0, self.n_folds)) - set([val_fold_idx]) - set([test_fold_idx]))\n",
        "           \n",
        "      indeces_train = []\n",
        "      for i in train_fold_idx:\n",
        "        indeces_train = indeces_train + self.folds[i]\n",
        "\n",
        "\n",
        "      train_set = Subset(self.dataset, indices = indeces_train  )\n",
        "      val_set = Subset(self.dataset, indices = self.folds[val_fold_idx])\n",
        "      test_set = Subset(self.dataset, indices = self.folds[val_fold_idx])\n",
        "\n",
        "      data_generator = {'train': train_set, 'val': val_set, 'test': test_set}\n",
        "\n",
        "      print(\"Folds - train \", train_fold_idx, \"(\",len(train_set), \")\",\n",
        "            \"val \",val_fold_idx, \" (\",len(val_set),\") test \",test_fold_idx,\n",
        "            \" (\", len(test_set), \") \\n\")\n",
        "\n",
        "      self.to_return = (1 +  self.to_return)  % self.n_folds\n",
        "\n",
        "      return {k: DataLoader(data_generator[k], batch_size=BATCH, shuffle= True) \n",
        "      for k in ['train', 'val','test']}\n",
        "      \n",
        "\n",
        "\n",
        "  def random_split_by_idxs_in_folds(self, dataset, n_folds):\n",
        "      \n",
        "    df = dataset.info()\n",
        "    df_ids = df.groupby([\"id\"]).count()[\"root\"].to_frame()\n",
        "    df_ids = df_ids.sample(frac=1)\n",
        "\n",
        "    n_images_fold = int(len(df_ids)/n_folds)\n",
        "    folds = []\n",
        "    inis = list(range(0, len(df_ids), n_images_fold ))[0:-1]\n",
        "    fins = [i + n_images_fold if i != inis[-1] else len(df_ids) for i in inis]\n",
        "\n",
        "    for ini, fin in zip(inis, fins):\n",
        "      ids_fold = list(df_ids[ini:fin].index)\n",
        "      folds.append(list(df[df.id.isin(ids_fold)].index))\n",
        "\n",
        "    return folds\n"
      ],
      "execution_count": 5,
      "outputs": []
    },
    {
      "cell_type": "markdown",
      "metadata": {
        "id": "WzBMXSCGVmyW"
      },
      "source": [
        "## Train && Test"
      ]
    },
    {
      "cell_type": "markdown",
      "metadata": {
        "id": "DNmNLHTG8YR3"
      },
      "source": [
        "### EarlyStopping"
      ]
    },
    {
      "cell_type": "code",
      "metadata": {
        "id": "2JpN0EbZVvaD"
      },
      "source": [
        "class EarlyStopping:\n",
        "    def __init__(self, patience, delta=0):\n",
        "            \n",
        "        self.patience = patience # Canto tempo esperar despois do mellor loss en val.\n",
        "        self.counter = 0\n",
        "        self.best_score = None\n",
        "        self.early_stop = False\n",
        "        self.val_loss_min = np.Inf\n",
        "        self.delta = delta # Cambio minimo para contabilizar  \n",
        "        self.model = model\n",
        "\n",
        "    def __call__(self, val_loss, model):\n",
        "        score =- val_loss\n",
        "        if self.best_score is None:\n",
        "            self.best_score = score\n",
        "            self.model = model\n",
        "        elif score < self.best_score + self.delta:\n",
        "            self.counter += 1\n",
        "            if DEBUG > 1:\n",
        "              print(f'EarlyStopping counter: {self.counter} out of {self.patience}')\n",
        "            if self.counter >= self.patience:\n",
        "                self.early_stop = True\n",
        "        else:\n",
        "            self.best_score = score\n",
        "            self.model = model\n",
        "            self.counter = 0\n",
        "\n",
        "    def save_checkpoint(self, path):    # Saves model when validation loss decrease.\n",
        "        torch.save(model.state_dict(),path)"
      ],
      "execution_count": 6,
      "outputs": []
    },
    {
      "cell_type": "markdown",
      "metadata": {
        "id": "bEdf4-vHVvFr"
      },
      "source": [
        "### Train && Test"
      ]
    },
    {
      "cell_type": "code",
      "metadata": {
        "id": "DvBxKc2nGYiY"
      },
      "source": [
        "########### Load Bar\n",
        "def print_bar(now, maximum, max_length = 20):\n",
        "    done = now/maximum\n",
        "    print(\"\\r\"+round(done*max_length)*\"█\"+round(max_length*(1-done))*\"░\"+\" \"+str(round(done*100,2))+\"% \", end='')"
      ],
      "execution_count": 7,
      "outputs": []
    },
    {
      "cell_type": "code",
      "metadata": {
        "id": "paum74xo7dFE"
      },
      "source": [
        "def count_sucesses(preds, labels, threshold):\n",
        "  preds[preds >= threshold] = 1\n",
        "  preds[preds < threshold] = 0\n",
        "  return torch.sum(labels == preds, -2)"
      ],
      "execution_count": 8,
      "outputs": []
    },
    {
      "cell_type": "code",
      "metadata": {
        "id": "wzkrvizKVp6O"
      },
      "source": [
        "def train_model(device, model, data_loaders, criterion, optimizer, epochs = 50):\n",
        "    \n",
        "    early_stopping = EarlyStopping(patience=PATIENCE)\n",
        "    train_loss, val_loss, acc_train, acc_val = [], [], [], []\n",
        "\n",
        "    for epoch in range(epochs):\n",
        "        print_bar(epoch+1, epochs)\n",
        "        for phase in ['train','val']:\n",
        "            model.train() if phase == 'train' else model.eval()\n",
        "            results = torch.Tensor([0,0,0]).to(device)\n",
        "            running_loss = torch.Tensor([0,0,0]).to(device)\n",
        "\n",
        "            for inputs, labels, _  in data_loaders[phase]: \n",
        "                inputs, labels = inputs.to(device), labels.to(device)       \n",
        "                optimizer.zero_grad()\n",
        "\n",
        "                with torch.set_grad_enabled(phase=='train'):             # We don't want calculte gradients when we're val \n",
        "                    preds = torch.sigmoid(model(inputs))               # map outputs to range of 0-1\n",
        "                    loss = criterion(preds, labels.type(torch.float))\n",
        "                    loss = loss.sum(-2)\n",
        "                    if phase == 'train':\n",
        "                        loss.backward(torch.ones_like(loss))\n",
        "                        optimizer.step() \n",
        "                    \n",
        "                    results = count_sucesses(preds, labels, 0.5 ) + results\n",
        "                    running_loss = loss + running_loss   \n",
        "            epoch_loss = running_loss / len(data_loaders[phase].dataset)\n",
        "            epoch_acc = results / len(data_loaders[phase].dataset)\n",
        "\n",
        "            if phase == \"train\":\n",
        "                train_loss.append(epoch_loss)\n",
        "                acc_train.append(epoch_acc)\n",
        "                \n",
        "            elif phase == \"val\":\n",
        "                val_loss.append(epoch_loss)\n",
        "                acc_val.append(epoch_acc)\n",
        "                early_stopping(epoch_loss.mean(), model)\n",
        "                if early_stopping.early_stop:\n",
        "                    return train_loss, val_loss, epoch, acc_train,acc_val, early_stopping\n",
        "                                    \n",
        "    return train_loss, val_loss, epochs, acc_train,acc_val, None"
      ],
      "execution_count": 9,
      "outputs": []
    },
    {
      "cell_type": "code",
      "metadata": {
        "id": "WmAJ3AQ2e88q"
      },
      "source": [
        "def test(device, model, data_loaders, threshold):\n",
        "  \n",
        "    model.eval()\n",
        "    labels, preds = np.array([[]]), np.array([])\n",
        "    for inputs_batch, labels_batch, _ in data_loaders[\"test\"]:\n",
        "        inputs_batch,labels_batch = inputs_batch.to(device),labels_batch.to(device)\n",
        "        preds_batch = torch.sigmoid(model(inputs_batch))\n",
        "        preds = np.append(preds, preds_batch.cpu().detach().numpy())\n",
        "        labels = np.append(labels, labels_batch.cpu().detach().numpy())\n",
        "    \n",
        "    preds_without_thresholding = preds.copy().reshape(int(len(preds)/3),3)\n",
        "    preds[preds >= threshold] = 1\n",
        "    preds[preds < threshold] = 0\n",
        "\n",
        "    preds = preds.reshape(int(len(preds)/3),3)\n",
        "    labels = labels.reshape(int(len(labels)/3),3)\n",
        "\n",
        "    return preds, labels, preds_without_thresholding"
      ],
      "execution_count": 10,
      "outputs": []
    },
    {
      "cell_type": "markdown",
      "metadata": {
        "id": "OzwO6Bh3EOBi"
      },
      "source": [
        "## Graph of test and train aux"
      ]
    },
    {
      "cell_type": "code",
      "metadata": {
        "id": "1334bxrGzjJJ"
      },
      "source": [
        "def graph_train_val_enf(model_name,train_loss,valid_loss, early, acc_train,acc_val, enfermidade):\n",
        "\n",
        "    length = len(acc_val)\n",
        "    idx = {\"CME\" : 0, \"SRD\": 1, \"DRT\":2}\n",
        "    idx = idx[enfermidade] \n",
        "\n",
        "    plt.subplot(211)\n",
        "    val_acc, train_acc = [x[idx] for x in acc_val],  [x[idx] for x in acc_train]    \n",
        "    plt.plot(range(0,length+1), [0]+val_acc, label='Val Acc', color = \"tab:orange\")\n",
        "    plt.plot(range(0,length+1), [0]+train_acc, label='Train Acc', color = \"tab:blue\")\n",
        "\n",
        "    if(early):\n",
        "        plt.axvline(len(acc_val)-PATIENCE, 0, 1, label='Early stopping', color=\"r\")\n",
        "\n",
        "    plt.xlabel('Epoch')\n",
        "    plt.ylabel('Accuracy')\n",
        "    plt.title(model_name+ \" \"+ enfermidade)\n",
        "    plt.ylim(0.6, 1)\n",
        "    plt.legend()\n",
        "\n",
        "    plt.subplot(212)\n",
        "    val_loss, train_loss = [x[idx] for x in valid_loss], [x[idx] for x in train_loss]    \n",
        "    plt.plot(range(0,length+1), [1]+val_loss, label='Val Loss', color = \"tab:orange\")\n",
        "    plt.plot(range(0,length+1), [1]+train_loss, label='Train Loss', color = \"tab:blue\")\n",
        "\n",
        "    if(early):\n",
        "        plt.axvline(len(acc_val)-PATIENCE, 0, 1, label='Early stopping', color=\"r\")\n",
        "\n",
        "    plt.xlabel('Epoch')\n",
        "    plt.ylabel(' Loss')\n",
        "    plt.ylim(0, 0.6)\n",
        "    plt.legend()\n",
        "    plt.show()\n",
        "\n",
        "def graph_train_val(MODEL_STR,train_loss, valid_loss, early_stop, acc_train,acc_val):\n",
        "    graph_train_val_enf(MODEL_STR,train_loss, valid_loss, early_stop, acc_train,acc_val, \"CME\")\n",
        "    graph_train_val_enf(MODEL_STR,train_loss, valid_loss, early_stop, acc_train,acc_val, \"SRD\") \n",
        "    graph_train_val_enf(MODEL_STR,train_loss, valid_loss, early_stop, acc_train,acc_val, \"DRT\")   "
      ],
      "execution_count": 11,
      "outputs": []
    },
    {
      "cell_type": "code",
      "metadata": {
        "id": "I8iII1eQnTsy"
      },
      "source": [
        "def print_confusion_matrix(confusion_matrix, axes, class_label, class_names, fontsize=14):\n",
        "\n",
        "    df_cm = pd.DataFrame(\n",
        "        confusion_matrix, index=class_names, columns=class_names,\n",
        "    )\n",
        "\n",
        "    try:\n",
        "        heatmap = sns.heatmap(df_cm, annot=True, fmt=\"d\", cbar=False, ax=axes)\n",
        "    except ValueError:\n",
        "        raise ValueError(\"Confusion matrix values must be integers.\")\n",
        "    heatmap.yaxis.set_ticklabels(heatmap.yaxis.get_ticklabels(), rotation=0, ha='right', fontsize=fontsize)\n",
        "    heatmap.xaxis.set_ticklabels(heatmap.xaxis.get_ticklabels(), rotation=0, ha='right', fontsize=fontsize)\n",
        "    axes.set_ylabel('True label')\n",
        "    axes.set_xlabel('Predicted label')\n",
        "    axes.set_title(\"Confusion Matrix for the class - \" + class_label)\n",
        "\n",
        "def confusion_matrix_plot(labels, preds):\n",
        "\n",
        "  i = 0\n",
        "  enfermidades = [\"CME\",\"SRD\",\"DRT\"]\n",
        "  cms = multilabel_confusion_matrix(labels, preds)\n",
        "\n",
        "  fig, ax = plt.subplots(1, 3, figsize=(13, 5))\n",
        "      \n",
        "  for axes, cfs_matrix, label in zip(ax.flatten(), cms, enfermidades):\n",
        "    print_confusion_matrix(cfs_matrix, axes, label, [\"0\", \"1\"])\n",
        "\n",
        "    tn, fp,  fn, tp  = cfs_matrix[0][0], cfs_matrix[0][1], cfs_matrix[1][0], cfs_matrix[1][1]\n",
        "    txt_sen = \"Sensibilidad  \"+ str(np.round(tp/(tp+fn),3))\n",
        "    txt_esp = \"Especificidad \" + str(np.round(tn/(tn+fp),3))\n",
        "\n",
        "    axes.text(0.2, -.25, txt_esp, horizontalalignment='center', verticalalignment='center', transform=axes.transAxes)\n",
        "    axes.text(0.2, -.3, txt_sen, horizontalalignment='center', verticalalignment='center', transform=axes.transAxes)\n",
        "\n",
        "  fig.tight_layout()\n",
        "  plt.show()\n",
        "  return  cms                 "
      ],
      "execution_count": 12,
      "outputs": []
    },
    {
      "cell_type": "code",
      "metadata": {
        "id": "jzVMQYmPD8Zp"
      },
      "source": [
        "import ast\n",
        "\n",
        "def all_train_graphics_kfold(root, id,  grid=\"True\", param= \"acc\", enfermedad = \"SRD\"): \n",
        "  df = pd.read_csv(root)\n",
        "  df = df[df[\"id\"]==id]\n",
        "  indices = {\"CME\" : 0, \"SRD\": 1, \"DRT\":2}\n",
        "  idx = indices[enfermedad]\n",
        "  df_enf = pd.DataFrame([])\n",
        "\n",
        "  if param == \"loss\":\n",
        "    param_ini = 1\n",
        "  else:\n",
        "    param_ini=0\n",
        "  \n",
        "  for idxs, row in df.iterrows():\n",
        "     a = [e[idx] for e in ast.literal_eval(row[\"val_\"+param])]\n",
        "     for i in range(0, len(a)):\n",
        "       df_enf = df_enf.append({\"epoch\": int(i) , \"val_\"+param: float(a[i]) },  ignore_index=True)\n",
        "  \n",
        "  mean = df_enf.groupby(\"epoch\").mean()[\"val_\"+param].tolist()\n",
        "  std = df_enf.groupby(\"epoch\").std()[\"val_\"+param].tolist()\n",
        "  std_up = [x + y for x, y in zip(mean, std)]\n",
        "  std_down = [x - y for x, y in zip(mean, std)]\n",
        "\n",
        "  plt.fill_between(range(len(std_up)+1), [param_ini]+std_up, [param_ini]+std_down, label = \"Std val\", alpha = .25, color= \"b\")\n",
        "  plt.plot(range(len(mean)+1), [param_ini]+ mean, label = \"Mean val\", color = \"tab:blue\")   \n",
        "\n",
        "\n",
        "  for idxs, row in df.iterrows():\n",
        "     a = [e[idx] for e in ast.literal_eval(row[\"train_\"+param])]\n",
        "     for i in range(0, len(a)):\n",
        "       df_enf = df_enf.append({\"epoch\": int(i) , \"train_\"+param: float(a[i]) },  ignore_index=True)\n",
        "  \n",
        "  mean = df_enf.groupby(\"epoch\").mean()[\"train_\"+param].tolist()\n",
        "  std = df_enf.groupby(\"epoch\").std()[\"train_\"+param].tolist()\n",
        "  std_up = [x + y for x, y in zip(mean, std)]\n",
        "  std_down = [x - y for x, y in zip(mean, std)]\n",
        "\n",
        "  plt.fill_between(range(len(std_up)+1), [param_ini]+std_up, [param_ini]+std_down, label = \"Std train\", alpha = .25, color= \"g\")\n",
        "  plt.plot(range(len(mean)+1), [param_ini]+ mean, label = \"Mean train\", color = \"tab:green\")   \n",
        "\n",
        "  plt.ylabel(param)\n",
        "  if param == \"acc\": \n",
        "    plt.ylim(0.6, 1.05)\n",
        "  elif param ==\"loss\":\n",
        "    plt.ylim(0.0, 0.75)\n",
        "\n",
        "\n",
        "\n",
        "  plt.grid(grid)\n",
        "  plt.title(enfermedad)\n",
        "  plt.legend()\n",
        "  plt.show()  "
      ],
      "execution_count": null,
      "outputs": []
    },
    {
      "cell_type": "markdown",
      "metadata": {
        "id": "2fhs6GZ4qFMx"
      },
      "source": [
        "## Main\n",
        "\n"
      ]
    },
    {
      "cell_type": "markdown",
      "metadata": {
        "id": "ni_xti5eQ4ut"
      },
      "source": [
        "### Funciones auxiliares"
      ]
    },
    {
      "cell_type": "code",
      "metadata": {
        "id": "kvxNoLmQU1jI"
      },
      "source": [
        "def select_network(name, pretrained):\n",
        "    if 'Resnet50'==name: \n",
        "      return models.resnet50(pretrained=pretrained)\n",
        "    elif 'Resnet101'==name: \n",
        "      return models.resnet101(pretrained=pretrained)\n",
        "    elif 'VGG16'==name: \n",
        "      return models.vgg16(pretrained=pretrained)\n",
        "    elif 'VGG19'==name: \n",
        "      return models.vgg19(pretrained=pretrained)\n",
        "    elif 'Densenet161'==name:\n",
        "      return models.densenet161(pretrained=pretrained)\n",
        "    \n",
        "def select_optimizer(model, opt, lr): \n",
        "  if opt == 'Adam': \n",
        "      return optim.Adam(model.parameters(), lr=lr)\n",
        "  else:\n",
        "      raise \"NotImplementYet\""
      ],
      "execution_count": 13,
      "outputs": []
    },
    {
      "cell_type": "code",
      "metadata": {
        "id": "m6508fU9i2C0"
      },
      "source": [
        "def set_model(model, string, n_classes = 2): \n",
        "  \n",
        "  if ('VGG' == string[:3]):\n",
        "    model.classifier[-1] = nn.Linear(4096,n_classes, bias = True)   \n",
        "  elif ('Densenet' == string[:8]):\n",
        "    model.classifier = nn.Linear(model.classifier.in_features, n_classes, bias = True)  \n",
        "  else:\n",
        "    model.fc = nn.Linear(model.fc.in_features, n_classes, bias = True) \n",
        "\n",
        "  return model"
      ],
      "execution_count": 14,
      "outputs": []
    },
    {
      "cell_type": "code",
      "metadata": {
        "id": "stK5bcVgqR19"
      },
      "source": [
        "def sen(cm):\n",
        "    tn, fp,  fn, tp  = cm[0][0], cm[0][1], cm[1][0], cm[1][1]\n",
        "    return np.round(tp/(tp+fn),3)\n",
        "    \n",
        "def esp(cm):    \n",
        "    tn, fp,  fn, tp  = cm[0][0], cm[0][1], cm[1][0], cm[1][1]\n",
        "    return  np.round(tn/(tn+fp),3)"
      ],
      "execution_count": 15,
      "outputs": []
    },
    {
      "cell_type": "markdown",
      "metadata": {
        "id": "EyHPvRaXRDo-"
      },
      "source": [
        "### Main a ejecutar"
      ]
    },
    {
      "cell_type": "code",
      "metadata": {
        "id": "2ar5G3S47nNZ"
      },
      "source": [
        "try:\n",
        "  df = pd.read_csv(ROOT_DATA+\"results/MULTILABEL/v1/results.csv\")\n",
        "  id = len(df)\n",
        "\n",
        "except FileNotFoundError:\n",
        "  df = pd.DataFrame([]) \n",
        "  id = 0"
      ],
      "execution_count": 16,
      "outputs": []
    },
    {
      "cell_type": "code",
      "metadata": {
        "colab": {
          "base_uri": "https://localhost:8080/"
        },
        "id": "Rtq_bKoOtJpw",
        "outputId": "c6de5d7f-d5fa-4468-886e-d6e147b5866f"
      },
      "source": [
        "gpu_info = !nvidia-smi\n",
        "gpu_info = '\\n'.join(gpu_info)\n",
        "if gpu_info.find('failed') >= 0:\n",
        "  print('Select the Runtime > \"Change runtime type\" menu to enable a GPU accelerator, ')\n",
        "  print('and then re-execute this cell.')\n",
        "else:\n",
        "  print(gpu_info)"
      ],
      "execution_count": 17,
      "outputs": [
        {
          "output_type": "stream",
          "text": [
            "Sun Apr  4 12:09:44 2021       \n",
            "+-----------------------------------------------------------------------------+\n",
            "| NVIDIA-SMI 460.67       Driver Version: 460.32.03    CUDA Version: 11.2     |\n",
            "|-------------------------------+----------------------+----------------------+\n",
            "| GPU  Name        Persistence-M| Bus-Id        Disp.A | Volatile Uncorr. ECC |\n",
            "| Fan  Temp  Perf  Pwr:Usage/Cap|         Memory-Usage | GPU-Util  Compute M. |\n",
            "|                               |                      |               MIG M. |\n",
            "|===============================+======================+======================|\n",
            "|   0  Tesla V100-SXM2...  Off  | 00000000:00:04.0 Off |                    0 |\n",
            "| N/A   33C    P0    24W / 300W |      0MiB / 16160MiB |      0%      Default |\n",
            "|                               |                      |                  N/A |\n",
            "+-------------------------------+----------------------+----------------------+\n",
            "                                                                               \n",
            "+-----------------------------------------------------------------------------+\n",
            "| Processes:                                                                  |\n",
            "|  GPU   GI   CI        PID   Type   Process name                  GPU Memory |\n",
            "|        ID   ID                                                   Usage      |\n",
            "|=============================================================================|\n",
            "|  No running processes found                                                 |\n",
            "+-----------------------------------------------------------------------------+\n"
          ],
          "name": "stdout"
        }
      ]
    },
    {
      "cell_type": "code",
      "metadata": {
        "colab": {
          "base_uri": "https://localhost:8080/",
          "height": 375,
          "referenced_widgets": [
            "1f11e7c7dd31466fa2045906b4f4224e",
            "ff06258e9e35454a84e674ad1378e114",
            "43de220d63fa4640901d4798afdf4bd3",
            "0bee5da37bf14f738e4a9ee6a4aab5b0",
            "31ee2fb179e24d7197cca535ead260bf",
            "6ac0a678100647e8a9d13d9c2b4e4835",
            "7cff11cec023455eb20a4c8aeb7adaa9",
            "a23d8449073b4d00abe066dfe741df63"
          ]
        },
        "id": "-gE-Ez1qtyIA",
        "outputId": "b703118d-f121-432d-b8d2-7678be3be5d8"
      },
      "source": [
        "device = torch.device('cuda:0' if torch.cuda.is_available() else 'cpu')\n",
        "print(\"Chosen device :\", device)\n",
        "\n",
        "folds = KFolds(ROOT_DATASETS+DATASET, 5)\n",
        "\n",
        "for i in range(0,folds.n_folds):\n",
        "\n",
        "  model = select_network(MODEL_STR, True)\n",
        "  model = set_model(model, MODEL_STR, 3)\n",
        "  model.to(device)\n",
        "\n",
        "  for param in model.parameters():\n",
        "      param.requires_grad = True  # Son entrenables = True\n",
        "      \n",
        "  criterion = nn.BCELoss(weight=None, reduction=\"none\")\n",
        "  optimizer = select_optimizer(model, opt = OPTIM, lr = LR)\n",
        "  data_loaders = folds.get_dataloaders()\n",
        "  ###### Train ######\n",
        "  result_train = train_model(device = device, model = model, \n",
        "                            data_loaders = data_loaders, criterion = criterion, \n",
        "                            optimizer= optimizer, epochs = EPOCHS)\n",
        "\n",
        "  train_loss, valid_loss, stop_epoch, acc_train, acc_val, early_stopping = result_train\n",
        "\n",
        "  #graph_train_val(MODEL_STR,train_loss, valid_loss, early_stopping.early_stop, acc_train,acc_val)\n",
        "  ###### Test ######\n",
        "\n",
        "  preds, labels, preds_without_threshold  = test(device, model, data_loaders, 0.5)\n",
        "  #cms = confusion_matrix_plot(labels, preds)\n",
        "  cms = multilabel_confusion_matrix(labels, preds)\n",
        "  cm_cme, cm_srd, cm_drt = cms[0], cms[1], cms[2]\n",
        "  print([list(e.detach().cpu().numpy()) for e in train_loss], type(train_loss))\n",
        "  row = {\n",
        "      'id': id,\n",
        "      'fold': i, \n",
        "      'EarlyStopping': str(stop_epoch)+\"/\"+str(EPOCHS), \n",
        "      'train_acc': [list(e.detach().cpu().numpy()) for e in acc_train],\n",
        "      'val_acc': [list(e.detach().cpu().numpy()) for e in acc_val],\n",
        "      'train_loss': [list(e.detach().cpu().numpy()) for e in train_loss],\n",
        "      'val_loss':  [list(e.detach().cpu().numpy()) for e in valid_loss],\n",
        "      'especificidad_CME': esp (cm_cme),\n",
        "      'especificidad_SRD': esp (cm_srd),\n",
        "      'especificidad_DRT': esp (cm_drt),\n",
        "      'sensibilidad_CME':  sen (cm_cme),\n",
        "      'sensibilidad_SRD':  sen (cm_srd),\n",
        "      'sensibilidad_DRT': sen (cm_drt),\n",
        "      'lr': LR, 'optim': OPTIM, \n",
        "      'model': MODEL_STR, 'batch_size': BATCH\n",
        "  }\n",
        "  df = df.append(row, ignore_index=True)\n",
        "\n",
        "df.to_csv(ROOT_DATA+\"results/MULTILABEL/v1/results.csv\", index=False)    "
      ],
      "execution_count": 18,
      "outputs": [
        {
          "output_type": "stream",
          "text": [
            "Chosen device : cuda:0\n"
          ],
          "name": "stdout"
        },
        {
          "output_type": "stream",
          "text": [
            "Downloading: \"https://download.pytorch.org/models/densenet161-8d451a50.pth\" to /root/.cache/torch/hub/checkpoints/densenet161-8d451a50.pth\n"
          ],
          "name": "stderr"
        },
        {
          "output_type": "display_data",
          "data": {
            "application/vnd.jupyter.widget-view+json": {
              "model_id": "1f11e7c7dd31466fa2045906b4f4224e",
              "version_minor": 0,
              "version_major": 2
            },
            "text/plain": [
              "HBox(children=(FloatProgress(value=0.0, max=115730790.0), HTML(value='')))"
            ]
          },
          "metadata": {
            "tags": []
          }
        },
        {
          "output_type": "stream",
          "text": [
            "\n",
            "Folds - train  [2, 3, 4] ( 1236 ) val  1  ( 366 ) test  0  ( 366 ) \n",
            "\n",
            "███░░░░░░░░░░░░░░░░░ 16.5% [[0.35733995, 0.1941886, 0.37431136], [0.28523016, 0.111993834, 0.30886948], [0.2728788, 0.11312364, 0.26864895], [0.23715557, 0.08773129, 0.25120166], [0.22174443, 0.06313787, 0.23656015], [0.21524249, 0.04350914, 0.2103655], [0.23999795, 0.07401346, 0.22025265], [0.21200894, 0.04534701, 0.19974536], [0.18139072, 0.03734603, 0.18418956], [0.16149938, 0.042311355, 0.18000798], [0.18915297, 0.049115323, 0.20207316], [0.15406187, 0.032332193, 0.18065746], [0.13245253, 0.018914072, 0.1591606], [0.13471548, 0.018679684, 0.15962963], [0.16344823, 0.019706482, 0.14657496], [0.1171047, 0.008730321, 0.12557863], [0.122883044, 0.012273878, 0.17536564], [0.09268991, 0.020307645, 0.15055715], [0.10345783, 0.01452829, 0.10769491], [0.11679486, 0.013468216, 0.1264068], [0.12903987, 0.014429871, 0.11742683], [0.06850222, 0.010271401, 0.104728974], [0.12386415, 0.010469049, 0.09466741], [0.123457864, 0.01703318, 0.133406], [0.06934624, 0.016142579, 0.10737938], [0.07038307, 0.009644315, 0.0725084], [0.06168711, 0.0110843545, 0.051594563], [0.07311264, 0.0029847121, 0.09594872], [0.070174746, 0.0076106284, 0.07124048], [0.07123569, 0.0023207008, 0.08097913], [0.06964187, 0.0036437346, 0.056389876], [0.03717368, 0.005763326, 0.05092361], [0.019504309, 0.0032232003, 0.042807642]] <class 'list'>\n",
            "Folds - train  [0, 3, 4] ( 1222 ) val  2  ( 404 ) test  1  ( 404 ) \n",
            "\n",
            "███░░░░░░░░░░░░░░░░░ 15.0% [[0.32879293, 0.15693535, 0.35977748], [0.26029903, 0.10302903, 0.27888256], [0.25485906, 0.06975071, 0.27362704], [0.26074085, 0.072428204, 0.26887092], [0.2509158, 0.048330557, 0.24381265], [0.24815112, 0.048225034, 0.25603542], [0.19886915, 0.026004218, 0.23933144], [0.19033195, 0.030612057, 0.21380097], [0.19863589, 0.02261898, 0.2157671], [0.17804767, 0.019903246, 0.19114429], [0.16013192, 0.015556802, 0.20667875], [0.14177209, 0.011017682, 0.17470126], [0.14368299, 0.03005385, 0.17293833], [0.14480813, 0.027348055, 0.17545508], [0.124697246, 0.0075027193, 0.15927644], [0.12231196, 0.020775601, 0.13492961], [0.108295634, 0.015278634, 0.12865265], [0.14236185, 0.015000676, 0.13335797], [0.13554226, 0.012704369, 0.15989503], [0.1194245, 0.0033862565, 0.13645189], [0.074031845, 0.0024977026, 0.1390305], [0.12597749, 0.022230808, 0.12134282], [0.111021005, 0.0073528453, 0.112045065], [0.11184002, 0.004569672, 0.0945357], [0.068890035, 0.007589804, 0.104874685], [0.06175303, 0.0042268718, 0.06889463], [0.08646951, 0.007296203, 0.05656398], [0.094513126, 0.00880173, 0.08097367], [0.057103913, 0.008971676, 0.07739714], [0.05649684, 0.006899137, 0.08578814]] <class 'list'>\n",
            "Folds - train  [0, 1, 4] ( 1183 ) val  3  ( 405 ) test  2  ( 405 ) \n",
            "\n",
            "███░░░░░░░░░░░░░░░░░ 15.5% [[0.34592125, 0.18641508, 0.37181106], [0.25766402, 0.12069764, 0.31633428], [0.26058063, 0.09155462, 0.26119256], [0.24644609, 0.058422983, 0.2882411], [0.20136717, 0.07618954, 0.2710231], [0.25642583, 0.073205605, 0.27167523], [0.1964325, 0.049319174, 0.22292738], [0.1921392, 0.03269041, 0.23315923], [0.17630537, 0.033122025, 0.22278987], [0.1994493, 0.04436419, 0.2226101], [0.16268629, 0.027524868, 0.18872602], [0.15028511, 0.03221754, 0.2018193], [0.14541362, 0.019878693, 0.18316078], [0.1311138, 0.017832376, 0.16930996], [0.12623028, 0.015595848, 0.16118832], [0.1333804, 0.018976647, 0.15093748], [0.14854711, 0.03935492, 0.16947909], [0.09251247, 0.009695829, 0.16083907], [0.09282666, 0.008347458, 0.15070398], [0.091180004, 0.006316014, 0.12987721], [0.077308185, 0.010590979, 0.11380977], [0.14527053, 0.00939765, 0.12500691], [0.0848445, 0.013869554, 0.12622464], [0.05869826, 0.0038548189, 0.12794936], [0.07517526, 0.0113715, 0.124999635], [0.10808325, 0.011007664, 0.11285307], [0.055098552, 0.0015928021, 0.080509335], [0.045443922, 0.0026355234, 0.074056275], [0.05992888, 0.0027276562, 0.08600619], [0.06287301, 0.004091439, 0.09245801], [0.08663387, 0.0037290528, 0.101122454]] <class 'list'>\n",
            "Folds - train  [0, 1, 2] ( 1160 ) val  4  ( 427 ) test  3  ( 427 ) \n",
            "\n",
            "████░░░░░░░░░░░░░░░░ 18.5% [[0.35789913, 0.1692413, 0.40990683], [0.30582348, 0.09886586, 0.29329398], [0.2754743, 0.114563465, 0.26518434], [0.25423512, 0.0804791, 0.26826683], [0.2592751, 0.0703615, 0.25828177], [0.25490227, 0.067375265, 0.27936006], [0.22978744, 0.050113134, 0.24707863], [0.22089458, 0.05943575, 0.21267402], [0.21493721, 0.047761053, 0.20171209], [0.17877954, 0.038196154, 0.20450218], [0.16734353, 0.027660577, 0.20295534], [0.16061063, 0.03037083, 0.18140551], [0.15169214, 0.04374295, 0.17427994], [0.15216242, 0.033157572, 0.20271045], [0.16124113, 0.01716929, 0.19809747], [0.1536237, 0.021088604, 0.19567643], [0.1631889, 0.017055236, 0.16454153], [0.1370068, 0.013187485, 0.15715061], [0.10085866, 0.021986576, 0.12770684], [0.13276948, 0.02292288, 0.18238051], [0.15940891, 0.014221759, 0.17158525], [0.10180257, 0.010459485, 0.15166254], [0.13786365, 0.02076209, 0.15154563], [0.10769212, 0.017401744, 0.14071254], [0.0937843, 0.013259239, 0.11698908], [0.11470238, 0.012664688, 0.13116147], [0.09756736, 0.004691898, 0.0936603], [0.10249617, 0.0034349111, 0.1279508], [0.10064447, 0.0056250496, 0.14635071], [0.06342066, 0.0016540441, 0.058830373], [0.0580132, 0.008434054, 0.075481586], [0.06276302, 0.0022650703, 0.073024735], [0.04629156, 0.019997455, 0.079075046], [0.10996987, 0.024093494, 0.09112052], [0.06288058, 0.013567957, 0.0928644], [0.060615525, 0.01595721, 0.07342003], [0.04999006, 0.020296542, 0.05525026]] <class 'list'>\n",
            "Folds - train  [1, 2, 3] ( 1175 ) val  0  ( 390 ) test  4  ( 390 ) \n",
            "\n",
            "████░░░░░░░░░░░░░░░░ 17.5% [[0.38787887, 0.17670523, 0.37787858], [0.29083964, 0.1360112, 0.29421917], [0.27390015, 0.09314805, 0.25371408], [0.2633406, 0.08046066, 0.2757781], [0.23674126, 0.07279635, 0.23953937], [0.2477191, 0.0518907, 0.281552], [0.21489905, 0.06421388, 0.22501726], [0.20500441, 0.04612826, 0.21233879], [0.19588906, 0.046246633, 0.22520775], [0.17172426, 0.027378244, 0.18881337], [0.18644533, 0.025075778, 0.1631371], [0.17087658, 0.04335831, 0.19405988], [0.17114544, 0.03649169, 0.1848657], [0.19950958, 0.017929023, 0.18849397], [0.20206267, 0.023520665, 0.18926524], [0.15462425, 0.020761842, 0.1862179], [0.12660682, 0.014639412, 0.15897083], [0.13857955, 0.011449018, 0.13999848], [0.14184952, 0.009416166, 0.11732662], [0.10241211, 0.0082484055, 0.1256713], [0.14519438, 0.022270115, 0.10594982], [0.11120618, 0.005912085, 0.10853703], [0.12203787, 0.019490808, 0.10877237], [0.11194526, 0.0042311614, 0.12573549], [0.07348271, 0.006442623, 0.070882544], [0.08186028, 0.0026318266, 0.06743355], [0.0713205, 0.0028229996, 0.07146969], [0.094959185, 0.010626238, 0.12629604], [0.093923576, 0.013320595, 0.10161347], [0.08440398, 0.007325187, 0.104447514], [0.07197399, 0.0021618728, 0.06372443], [0.095378794, 0.008476232, 0.08996393], [0.10688279, 0.0055731665, 0.11021182], [0.07915448, 0.0048242817, 0.084924586], [0.049857605, 0.0025140517, 0.07403931]] <class 'list'>\n"
          ],
          "name": "stdout"
        }
      ]
    },
    {
      "cell_type": "code",
      "metadata": {
        "id": "jemeWXjuGECb",
        "colab": {
          "base_uri": "https://localhost:8080/"
        },
        "outputId": "c7646813-11e2-4c64-f8f8-ae37291ab069"
      },
      "source": [
        "print(\"Especificidad \")\n",
        "print(\" DRT \"+ str(np.round(df[(df[\"id\"]==id)]['especificidad_DRT'].mean(),2)))\n",
        "print(\" CME \"+ str(np.round(df[(df[\"id\"]==id)]['especificidad_CME'].mean(),2)))\n",
        "print(\" SRD \"+ str(np.round(df[(df[\"id\"]==id)]['sensibilidad_SRD'].mean(),2)))\n",
        "\n",
        "print(\"\\nSensibilidad \")\n",
        "\n",
        "print(\" CME \"+ str(np.round(df[(df[\"id\"]==id)]['sensibilidad_CME'].mean(),2)))\n",
        "print(\" SRD \"+ str(np.round(df[(df[\"id\"]==id)]['sensibilidad_SRD'].mean(),2)))\n",
        "print(\" DRT \"+ str(np.round(df[(df[\"id\"]==id)]['sensibilidad_DRT'].mean(),2)))"
      ],
      "execution_count": 27,
      "outputs": [
        {
          "output_type": "stream",
          "text": [
            "Especificidad \n",
            " DRT 0.91\n",
            " CME 0.94\n",
            " SRD 0.86\n",
            "\n",
            "Sensibilidad \n",
            " CME 0.9\n",
            " SRD 0.86\n",
            " DRT 0.88\n"
          ],
          "name": "stdout"
        }
      ]
    },
    {
      "cell_type": "markdown",
      "metadata": {
        "id": "SYmmhzSxDc8u"
      },
      "source": [
        "## Graph KFOLD"
      ]
    },
    {
      "cell_type": "code",
      "metadata": {
        "id": "Sgix-z0qDnck",
        "colab": {
          "base_uri": "https://localhost:8080/",
          "height": 281
        },
        "outputId": "2ac04202-ca55-4921-e7b7-7ec4fbf65f43"
      },
      "source": [
        "all_train_graphics_kfold(ROOT_DATA+\"results/MULTILABEL/v1/results.csv\", id, param = \"acc\", enfermedad=\"CME\")"
      ],
      "execution_count": 106,
      "outputs": [
        {
          "output_type": "display_data",
          "data": {
            "image/png": "[encoded data removed]",
            "text/plain": [
              "<Figure size 432x288 with 1 Axes>"
            ]
          },
          "metadata": {
            "tags": [],
            "needs_background": "light"
          }
        }
      ]
    }
  ]
}