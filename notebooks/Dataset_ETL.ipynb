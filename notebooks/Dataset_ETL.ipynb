{
  "nbformat": 4,
  "nbformat_minor": 0,
  "metadata": {
    "colab": {
      "name": "Dataset_ETL",
      "provenance": [],
      "collapsed_sections": [
        "7hTooybiRfAX",
        "fMS7qt-T4fQR",
        "VHZrPLhePDg4",
        "lrURxBYqijLB"
      ],
      "include_colab_link": true
    },
    "kernelspec": {
      "display_name": "Python 3",
      "name": "python3"
    }
  },
  "cells": [
    {
      "cell_type": "markdown",
      "metadata": {
        "id": "view-in-github",
        "colab_type": "text"
      },
      "source": [
        "<a href=\"https://colab.research.google.com/github/IciaCarroBarallobre/AdventOfCode/blob/main/notebooks/Dataset_ETL.ipynb\" target=\"_parent\"><img src=\"https://colab.research.google.com/assets/colab-badge.svg\" alt=\"Open In Colab\"/></a>"
      ]
    },
    {
      "cell_type": "markdown",
      "metadata": {
        "id": "5fCEDCU_qrC0"
      },
      "source": [
        "\n",
        "#  ETL: Extract, transform and Load\n",
        "\n",
        "\n",
        "\n"
      ]
    },
    {
      "cell_type": "markdown",
      "metadata": {
        "id": "309ns5opp8fN"
      },
      "source": [
        "## Imports"
      ]
    },
    {
      "cell_type": "code",
      "metadata": {
        "colab": {
          "base_uri": "https://localhost:8080/"
        },
        "id": "r9tEH2NcR8bX",
        "outputId": "a497c367-48c4-4606-9b6a-a2141fdab935"
      },
      "source": [
        "from google.colab import drive\n",
        "drive.mount('/content/drive', force_remount=True)"
      ],
      "execution_count": 6,
      "outputs": [
        {
          "output_type": "stream",
          "text": [
            "Mounted at /content/drive\n"
          ],
          "name": "stdout"
        }
      ]
    },
    {
      "cell_type": "code",
      "metadata": {
        "id": "Dw3V5uA2Otwp"
      },
      "source": [
        "#### HYPERPARAM\n",
        "ROOT_DIR, DATASET = '/content/drive/My Drive/TFG/data/datasets/', 'subrolldataset/'\n",
        "DATASET_NAME = \"/info.csv\"\n",
        "OVERLAP = True  # CROP - hyperparam\n",
        "SUB = True # hyperparam - NAME\n",
        "\n",
        "####### CONSTANTS\n",
        "RED, GREEN, BLUE, = [1,0,0], [0,1,0], [0,0,1]\n",
        "BLACK, WHITE = [0,0,0], [1,1,1]\n",
        "YELLOW = [1,1,0]"
      ],
      "execution_count": 7,
      "outputs": []
    },
    {
      "cell_type": "code",
      "metadata": {
        "id": "gnLehldV59kF"
      },
      "source": [
        "import numpy as np \n",
        "import pandas as pd \n",
        "import matplotlib.pyplot as plt\n",
        "import os   \n",
        "import math \n",
        "import time\n",
        "import torch \n",
        "from torchvision import  transforms \n",
        "from PIL import Image \n",
        "from scipy.ndimage.measurements import label\n",
        "from PIL import Image "
      ],
      "execution_count": 8,
      "outputs": []
    },
    {
      "cell_type": "markdown",
      "metadata": {
        "id": "7hTooybiRfAX"
      },
      "source": [
        "## Aux Functions"
      ]
    },
    {
      "cell_type": "code",
      "metadata": {
        "id": "DvBxKc2nGYiY"
      },
      "source": [
        "def print_bar(now, maximum, max_length = 20):\n",
        "    done = now/maximum\n",
        "    print(\"\\r\"+round(done*max_length)*\"█\"+round(max_length*(1-done))*\"░\"+\" \"+str(round(done*100,2))+\"% \", end='')"
      ],
      "execution_count": 9,
      "outputs": []
    },
    {
      "cell_type": "code",
      "metadata": {
        "id": "1THPFrq7RhEQ"
      },
      "source": [
        "def get_mask_indexes(tensor):  \n",
        "  return ((tensor == torch.Tensor([1,1,1])).nonzero()[:,0:2])\n",
        "\n",
        "def get_mask_max_y(indexes):\n",
        "  return (indexes)[:,0].max().item()\n",
        "\n",
        "def get_mask_min_y(indexes):\n",
        "  return (indexes)[:,0].min().item()"
      ],
      "execution_count": 10,
      "outputs": []
    },
    {
      "cell_type": "code",
      "metadata": {
        "id": "vNXIvlADRrYD"
      },
      "source": [
        "##################   Position of extension   #############################\n",
        "# Search within a string if there are any of the extensions in the list\n",
        "# and return its position else return -1\n",
        "##########################################################################\n",
        "\n",
        "def pos_ext(ext):\n",
        "  for e in ['bmp', 'png', 'jpeg', 'tif', 'jpg']:\n",
        "    pext = ext.find(e)\n",
        "    if pext > -1:\n",
        "      return pext\n",
        "  return -1\n",
        "\n",
        "def new_filename(filename,i):\n",
        "  point, pext = filename.index(\".\"), pos_ext(filename[:point]) \n",
        "  if pext > -1:\n",
        "    return filename[:pext]+ \"_\" + str(i) + filename[pext:point]+ filename[point:]\n",
        "  else:\n",
        "    return filename[:point]+ \"_\" + str(i) + filename[point:]"
      ],
      "execution_count": 11,
      "outputs": []
    },
    {
      "cell_type": "code",
      "metadata": {
        "id": "U1AqYMWLOUkY"
      },
      "source": [
        "##################   Position of extension   #############################\n",
        "# Transform RGB PIL Image to tensor - Image PIL: (RGB x height x width) \n",
        "# Tensor: (width, height, RGB). \n",
        "##########################################################################\n",
        "\n",
        "def image_to_tensor(root):\n",
        "  toTensor = transforms.ToTensor()\n",
        "  image = Image.open(root).convert('RGB')   \n",
        "  return toTensor(image).permute(1,2,0) "
      ],
      "execution_count": 12,
      "outputs": []
    },
    {
      "cell_type": "code",
      "metadata": {
        "id": "nej64Q2Sh9f1"
      },
      "source": [
        "def create_mask(data, color_to_detect):\n",
        "  return  (data[:,:,0] == color_to_detect[0] ) & (data[:,:,1] == color_to_detect[1]) & (data[:,:,2] == color_to_detect[2])\n",
        "\n",
        "def yellow_to_doubt(npimag):\n",
        "  mask = create_mask(npimag, YELLOW)\n",
        "  npimag[:,:,:3] [mask] = [0,0,0]\n",
        "  return npimag"
      ],
      "execution_count": 13,
      "outputs": []
    },
    {
      "cell_type": "markdown",
      "metadata": {
        "id": "QT_HkQsdNQfz"
      },
      "source": [
        "## Dataset a csv "
      ]
    },
    {
      "cell_type": "markdown",
      "metadata": {
        "id": "3Vs1D-37OBpK"
      },
      "source": [
        "Create a csv with the images, roots and labels (CME, DRT, SRD, DME) for the following Dataset function: \n",
        "\n",
        " `OCTDataset.__getitem __(self,idx)`\n",
        "\n"
      ]
    },
    {
      "cell_type": "code",
      "metadata": {
        "id": "RrfQcmIy49Br"
      },
      "source": [
        "def subname_to_name(filename):\n",
        "  return filename[:filename.index(\"_\")]+filename[filename.index(\".\"):]\n",
        "\n",
        "def cirrus_or_spectralis(filename, sub):\n",
        "  cirrus = [str(i)+\".\"+ext for i in range(1,639) for ext in ['bmp', 'png', 'jpeg', 'tif', 'jpg']]\n",
        "  if sub:\n",
        "    return \"CIRRUS\" if subname_to_name(filename) in cirrus  else \"SPECTRALIS\"\n",
        "  else:\n",
        "    return \"CIRRUS\" if filename in cirrus else \"SPECTRALIS\""
      ],
      "execution_count": 14,
      "outputs": []
    },
    {
      "cell_type": "code",
      "metadata": {
        "colab": {
          "base_uri": "https://localhost:8080/",
          "height": 538
        },
        "id": "_v7-wWOVnMxn",
        "outputId": "75774329-0332-41f4-f50e-b183af452713"
      },
      "source": [
        "def doubt_percentage(np_image, verbose = 0):\n",
        "  data = np_image.copy()\n",
        "  mask = create_mask(data, RED) | create_mask(data, GREEN) | create_mask(data, BLUE) \n",
        "  data[:,:,:3] [mask] = [1, 1, 1]\n",
        "\n",
        "  # Count labeled pixeles\n",
        "  mask_labeled_pixels = create_mask(data, (1, 1, 1))\n",
        "  labeled_pixeles = np.sum(mask_labeled_pixels)\n",
        "  \n",
        "  data = 1 - data # Invertir\n",
        "\n",
        "  binary = data[:,:,0].astype(dtype=np.int32) # Only grayscale\n",
        "  structure = np.ones((3, 3))# Vecindad 8\n",
        "\n",
        "  labeled_array, _ = label(binary, structure=structure)\n",
        "  labeled_array[:,:][labeled_array[:,:]==1] = 0\n",
        "\n",
        "  if DATASET == \"rolldataset/\":\n",
        "    zone1 =  labeled_array[0, labeled_array.shape[1]-1]\n",
        "    labeled_array[:,:][labeled_array[:,:]==zone1] = 0\n",
        "  elif DATASET == \"subdataset/\" or DATASET == \"subrolldataset/\":\n",
        "    right, bottom = labeled_array.shape[1]-1, labeled_array.shape[0]-1\n",
        "\n",
        "    zone1 =  labeled_array[0, right]\n",
        "    zone2 =  labeled_array[bottom, right]\n",
        "    zone3 =  labeled_array[bottom, 0]\n",
        "\n",
        "    labeled_array[:,:][labeled_array[:,:]==zone1] = 0\n",
        "    labeled_array[:,:][labeled_array[:,:]==zone2] = 0    \n",
        "    labeled_array[:,:][labeled_array[:,:]==zone3] = 0       \n",
        "\n",
        "  if verbose:\n",
        "    plt.imshow(labeled_array)\n",
        "    plt.show()\n",
        "\n",
        "  doubt = np.sum(labeled_array[labeled_array>0]) \n",
        "  return  np.round(doubt/ (labeled_pixeles+doubt),3)\n",
        "\n",
        "\n",
        "image = Image.open(ROOT_DIR+ \"/subrolldataset/LABELS/8775_2.png\".replace(\".\",\"\")+\".png\").convert('RGB')\n",
        "toTensor = transforms.ToTensor()\n",
        "tensor = toTensor(image).permute(1,2,0)\n",
        "np_image = np.round(tensor.numpy()) # sometimes 1 is 0.9+ \n",
        "\n",
        "plt.imshow(np_image)\n",
        "plt.show()\n",
        "\n",
        "print(doubt_percentage(np_image, verbose = 1))    "
      ],
      "execution_count": 15,
      "outputs": [
        {
          "output_type": "display_data",
          "data": {
            "image/png": "[encoded data removed]",
            "text/plain": [
              "<Figure size 432x288 with 1 Axes>"
            ]
          },
          "metadata": {
            "tags": [],
            "needs_background": "light"
          }
        },
        {
          "output_type": "display_data",
          "data": {
            "image/png": "[encoded data removed]",
            "text/plain": [
              "<Figure size 432x288 with 1 Axes>"
            ]
          },
          "metadata": {
            "tags": [],
            "needs_background": "light"
          }
        },
        {
          "output_type": "stream",
          "text": [
            "0.381\n"
          ],
          "name": "stdout"
        }
      ]
    },
    {
      "cell_type": "code",
      "metadata": {
        "id": "qAFIEtSWOHj0"
      },
      "source": [
        "######################   Precondition   #############################\n",
        "# We must have 2 folders: one that contains the originals images \n",
        "# and other that contains the labels images of the originals. \n",
        "# Labels name is the same of original +\".png\" \n",
        "# Example: original.jpg (Original) -> originaljpg.png (Label)\n",
        "######################################################################\n",
        "\n",
        "def info_to_csv(root_dataset, sub= SUB,original_folder=\"ORIGINALS/\", labels_folder=\"LABELS/\", dataset_name = \"/info.csv\"):\n",
        "  toTensor = transforms.ToTensor()\n",
        "  df = pd.DataFrame({})\n",
        "  max = len(os.listdir(root_dataset + original_folder))\n",
        "  now = 0\n",
        "  for filename in os.listdir(root_dataset + original_folder): \n",
        "    now = now +1\n",
        "\n",
        "    # Image to numpy array\n",
        "    root_label = root_dataset + labels_folder + filename.replace(\".\",\"\")+\".png\"\n",
        "    image = Image.open(root_label).convert('RGB')\n",
        "    tensor = toTensor(image).permute(1,2,0)\n",
        "    np_image = np.round(tensor.numpy()) # sometimes 1 is 0.9+ \n",
        "\n",
        "    # Buscar si hay azul/rojo/verde en las imagenes para etiquetarlas\n",
        "    DRT, SRD, CME = 0,0,0 \n",
        "    if(np.logical_and.reduce(np_image == RED, 2).any()): DRT = 1\n",
        "    if(np.logical_and.reduce(np_image == GREEN, 2).any()): SRD = 1\n",
        "    if(np.logical_and.reduce(np_image == BLUE, 2).any()): CME = 1\n",
        "    doubt = doubt_percentage(np_image)\n",
        "    DME =   1 if( DRT | SRD| CME| (doubt > 0) ) else 0\n",
        "\n",
        "    row = {'device': cirrus_or_spectralis(filename, sub),\n",
        "           'name': filename,\n",
        "           'root': root_dataset+original_folder+filename,\n",
        "           'root_label':root_label, \n",
        "           'DRT': DRT, 'SRD': SRD, 'CME': CME, 'DME': DME,\n",
        "           'id': subname_to_name(filename) if sub else filename,\n",
        "           'doubt_percentage':  doubt}   \n",
        "\n",
        "    print_bar(now,max)\n",
        "    df = df.append(row, ignore_index = True)\n",
        "  \n",
        "  df.to_csv(root_dataset+dataset_name, index=False)"
      ],
      "execution_count": 16,
      "outputs": []
    },
    {
      "cell_type": "code",
      "metadata": {
        "id": "CGqqSWRgPGtN",
        "colab": {
          "base_uri": "https://localhost:8080/"
        },
        "outputId": "946cb44b-4ca2-4382-abb9-753c38a73656"
      },
      "source": [
        "info_to_csv(ROOT_DIR+DATASET, labels_folder=\"LABELS2/\", dataset_name = \"/info_labels2.csv\")"
      ],
      "execution_count": 17,
      "outputs": [
        {
          "output_type": "stream",
          "text": [
            "████████████████████ 100.0% "
          ],
          "name": "stdout"
        }
      ]
    },
    {
      "cell_type": "markdown",
      "metadata": {
        "id": "fMS7qt-T4fQR"
      },
      "source": [
        "## Crop "
      ]
    },
    {
      "cell_type": "markdown",
      "metadata": {
        "id": "O8-CPHbu6B9V"
      },
      "source": [
        "### Get centers with overlap\n"
      ]
    },
    {
      "cell_type": "markdown",
      "metadata": {
        "id": "bQKA0zG4yKb_"
      },
      "source": [
        "##### Explicacion\n"
      ]
    },
    {
      "cell_type": "markdown",
      "metadata": {
        "id": "oW4utonc0LDr"
      },
      "source": [
        "![Exemplo](https://drive.google.com/uc?id=1YPUtf1OxnzQqsAGJGcR3T6stPL9_2abh)\n"
      ]
    },
    {
      "cell_type": "markdown",
      "metadata": {
        "id": "206fXHKw0NnN"
      },
      "source": [
        "##### Codigo"
      ]
    },
    {
      "cell_type": "markdown",
      "metadata": {
        "id": "Sd_BEYZ_Lzs1"
      },
      "source": [
        ""
      ]
    },
    {
      "cell_type": "code",
      "metadata": {
        "id": "_TwoceEm5gOJ"
      },
      "source": [
        "# Dependencias:\n",
        "##  - Los path como parametros acabarlos en / \n",
        "##  - Cuando se quiera rodar una imagen debe tener su homonima en mask\n",
        "##  - Cada una se aloja en: MASKS; ORIGINALS; LABELS respectivamente.\n",
        "##  - La mascara y la label tienen como filename: el de la original+extencion+.png\n",
        "DEBUG = 0 # Test\n",
        "\n",
        "def get_squares_centers_overlap(width, height):\n",
        "  square_number = math.ceil(width / height) \n",
        "  mod = True if width  % height else False\n",
        "\n",
        "  cuadrado_sobrante_fora = height * square_number - width\n",
        "  cadrado_sobrante_dentro = height - cuadrado_sobrante_fora\n",
        "  x = cuadrado_sobrante_fora/ (square_number -1)\n",
        "  desplazamento =[ -i * x for i in range(square_number)]\n",
        "  if mod: \n",
        "    centers = list(range(math.floor(height/2), width+height, height))\n",
        "    centers = [math.floor(x + y) for x, y in zip(centers, desplazamento)]\n",
        "  else:\n",
        "    centers = list(range(math.floor(height/2), width, height))\n",
        "  return centers"
      ],
      "execution_count": null,
      "outputs": []
    },
    {
      "cell_type": "markdown",
      "metadata": {
        "id": "noL3DR-SNkSv"
      },
      "source": [
        "### Get centers without overlap\n",
        "\n"
      ]
    },
    {
      "cell_type": "markdown",
      "metadata": {
        "id": "yh6g4xa1HuWw"
      },
      "source": [
        "#### Explicacion "
      ]
    },
    {
      "cell_type": "markdown",
      "metadata": {
        "id": "rItWkWs_ONaE"
      },
      "source": [
        "\n",
        "Cada mostra sería unha porción cadrada dunha imaxe OCT. \n",
        "\n",
        "![Exemplo](https://drive.google.com/uc?id=1Qar7jdd9xK3D6o_7qpujXab2aMWlgVkO)\n",
        "\n",
        "---\n",
        "\n",
        "\n",
        "**Ventaxas**:\n",
        "\n",
        "*   Compensamos o problema da relación de aspecto de Spectralis vs Cirrus e podemos seguir empregando transfer learning.\n",
        "*   Estratexia  sinxela de implementar \n",
        "*   Incrementaríamos moitísimo o número virtual de mostras que temos \n",
        "*   Os datasets deberían estar equilibrados para mellores resultados entre clase positiva e negativa. Obtemos un número maior de mostras de cada clase coas que será máis sinxelo balancear o dataset.\n",
        "---\n",
        "**Algoritmo**\n",
        "\n",
        "<img src=\"https://drive.google.com/uc?id=1HiMtMXQZ6URsRjuEO1ilDR3sHc-39mWy\"  height=\"250\" />\n",
        "\n",
        "\n",
        "---\n"
      ]
    },
    {
      "cell_type": "markdown",
      "metadata": {
        "id": "i0zbQmDAPt4V"
      },
      "source": [
        "#### Codigo"
      ]
    },
    {
      "cell_type": "code",
      "metadata": {
        "id": "fM1QAkUGCY0g"
      },
      "source": [
        "# Dependencias:\n",
        "##  - Los path como parametros acabarlos en / \n",
        "##  - Cuando se quiera rodar una imagen debe tener su homonima en mask\n",
        "##  - Cada una se aloja en: MASKS; ORIGINALS; LABELS respectivamente.\n",
        "##  - La mascara y la label tienen como filename: el de la original+extencion+.png\n",
        "DEBUG = 0 # Test\n",
        "\n",
        "# Obtener los centros de los posibles cuadrados de la imagen\n",
        "def get_squares_centers(width, height):\n",
        "  square_number = math.ceil(width / height) \n",
        "  cuadrado_sobrante_fora = height * square_number - width\n",
        "  cadrado_sobrante_dentro = height - cuadrado_sobrante_fora\n",
        "  desplazamento = math.floor(cadrado_sobrante_dentro/2 )\n",
        "  if DEBUG > 0:\n",
        "    print(\"Square number: \",square_number)\n",
        "    print(\"Espazo sen coller: \",cadrado_sobrante_dentro)\n",
        "    print(\"Desplazamento: \",desplazamento)\n",
        "\n",
        "  return list(range(math.floor(height/2)+ desplazamento, width, height))\n",
        "  "
      ],
      "execution_count": null,
      "outputs": []
    },
    {
      "cell_type": "markdown",
      "metadata": {
        "id": "gNMF6IkjCZuG"
      },
      "source": [
        "### Crop"
      ]
    },
    {
      "cell_type": "code",
      "metadata": {
        "id": "AvadSAsCOfhf"
      },
      "source": [
        "# Cropear las imagenes en cuadrados\n",
        "def crop_image_in_square(root, filename, save_root): \n",
        "  \n",
        "  label_filename = filename.replace(\".\",\"\")+\".png\"\n",
        "\n",
        "  originalroot = root + \"ORIGINALS/\" + filename\n",
        "  maskroot = root + \"MASKS/\" + label_filename\n",
        "  labelroot =  root +\"LABELS/\"+label_filename \n",
        "\n",
        "  tensor = image_to_tensor(maskroot)\n",
        "  idx = get_mask_indexes(tensor)\n",
        "\n",
        "  top, bottom = get_mask_min_y(idx), get_mask_max_y(idx)\n",
        "  height = bottom - top\n",
        "  width = int(tensor.size(1))  \n",
        "  if OVERLAP:\n",
        "    centers = get_squares_centers_overlap(width, height)\n",
        "  else:\n",
        "    centers = get_squares_centers(width,height)\n",
        "\n",
        "  if DEBUG > 0:\n",
        "    print(\"Size: \", width)\n",
        "    print(\"Top \", top, \" bottom \", bottom)\n",
        "    print(\"Centers: \", centers)\n",
        "\n",
        "  image = Image.open(originalroot).convert('RGB')  \n",
        "  mask = Image.open(maskroot).convert('RGB')\n",
        "  label = Image.open(labelroot).convert('RGB')\n",
        "\n",
        "  for i in range(len(centers)):    \n",
        "    left, right = centers[i] - height/2, centers[i] + height/2\n",
        "    size = (left, top, right, bottom)\n",
        "    \n",
        "    image_cropped = image.crop(size)\n",
        "    image_cropped.save(save_root + \"SUBORIGINALS/\" + new_filename(filename,i+1))\n",
        "    \n",
        "    label_cropped = label.crop(size)\n",
        "    label_cropped.save(save_root + \"SUBLABELS/\" + new_filename(label_filename,i+1))\n"
      ],
      "execution_count": null,
      "outputs": []
    },
    {
      "cell_type": "code",
      "metadata": {
        "id": "1dQKoH0JOj2q"
      },
      "source": [
        "now, max = 0, len(os.listdir(ROOT_DIR + DATASET+\"ORIGINALS/\"))\n",
        "root = ROOT_DIR + DATASET\n",
        "save_root = root\n",
        "\n",
        "for filename in os.listdir(ROOT_DIR + DATASET+\"ORIGINALS/\"):\n",
        "  now = now + 1\n",
        "  print_bar(now,max)\n",
        "  crop_image_in_square(root, filename, save_root)"
      ],
      "execution_count": null,
      "outputs": []
    },
    {
      "cell_type": "markdown",
      "metadata": {
        "id": "VHZrPLhePDg4"
      },
      "source": [
        "## Roll images"
      ]
    },
    {
      "cell_type": "markdown",
      "metadata": {
        "id": "iqMWgPcEKjbp"
      },
      "source": [
        "En esta parte del código se realizan lo siguiente:\n",
        "\n",
        "1.   Aplanar la imagenes basandose en su máscara\n",
        "2.   Recortar arriba y abajo lo sobrante\n",
        "\n"
      ]
    },
    {
      "cell_type": "code",
      "metadata": {
        "id": "g9yfZ3-6bNe-"
      },
      "source": [
        "# Inputs: indexes of (y,x) image white pixeles value, max white y\n",
        "# Outputs: [x, distance]\n",
        "def get_distance(idw,max_y):\n",
        "  df= pd.DataFrame(idw.numpy(), columns = [\"max_y\",\"x\"])\n",
        "  df = df.groupby(\"x\")[\"max_y\"].max().to_frame()\n",
        "  df['x'] = df.index\n",
        "  df['distance'] =  max_y -df['max_y']\n",
        "  df.drop(inplace=True, columns=[\"max_y\"])\n",
        "  return df.values.tolist()\n",
        "\n",
        "## Rodar  las columnas del tensor x distancias\n",
        "def roll(tensor, distance):\n",
        "  range_distance = range(len(distance[:,0]))\n",
        "  for i in range_distance:\n",
        "    x, dist = int(distance[i,0]), int(distance[i,1])\n",
        "    tensor[:, x] = tensor[:, x].roll(shifts = dist, dims=0)\n",
        "  return tensor   \n",
        "\n",
        "# Cropear arriba y abajo\n",
        "def crop(tensor,min,max):\n",
        "  return tensor[ min:max,:]"
      ],
      "execution_count": null,
      "outputs": []
    },
    {
      "cell_type": "code",
      "metadata": {
        "id": "vYijTMScBEmE"
      },
      "source": [
        "def roll_and_crop(tensors, mask_tensor):\n",
        "  idx = get_mask_indexes(mask_tensor)\n",
        "  max_y= get_mask_max_y(idx)\n",
        "  distance = torch.Tensor(get_distance(idx,max_y))\n",
        "  mask_tensor = roll(mask_tensor, distance)\n",
        "  idx = get_mask_indexes(mask_tensor)\n",
        "  min_y =  get_mask_min_y(idx)\n",
        "  mask_tensor = crop(mask_tensor,min_y,max_y)\n",
        "  for key in tensors:  \n",
        "    tensors[key] = crop(roll(tensors[key], distance),min_y,max_y)\n",
        "\n",
        "  return tensors, mask_tensor"
      ],
      "execution_count": null,
      "outputs": []
    },
    {
      "cell_type": "code",
      "metadata": {
        "id": "_MBIeDHEi4ap"
      },
      "source": [
        "# Dependencias:\n",
        "##  - Los path como parametros acabarlos en / \n",
        "##  - Cuando se quiera rodar una imagen debe tener su homonima en mask\n",
        "##  - Cada una se aloja en: MASKS; ORIGINALS; LABELS respectivamente.\n",
        "##  - La mascara y la label tienen como filename: el de la original+extencion+.png\n",
        "\n",
        "def image_preprocess(root, filename, save_root, labels = True):\n",
        "\n",
        "  mask_label_filename = filename.replace(\".\",\"\")+\".png\" \n",
        "  original_root = root + \"ORIGINALS/\"+ filename\n",
        "  mask_root = root + \"MASKS/\"+mask_label_filename  \n",
        "  labels_path =  root +\"LABELS/\"+mask_label_filename if labels else None\n",
        "\n",
        "  original_tensor = image_to_tensor(original_root)\n",
        "  mask_tensor = image_to_tensor(mask_root)\n",
        "\n",
        "  tensors = {\"ORIGINALS\":original_tensor}\n",
        "  if labels:\n",
        "    label_tensor = image_to_tensor(labels_path)\n",
        "    tensors[\"LABELS\"] = label_tensor\n",
        "\n",
        "  tensor_list, mask = roll_and_crop(tensors, mask_tensor)\n",
        "\n",
        "  mask = transforms.ToPILImage()(mask.permute(2,0,1) )\n",
        "  save_image_root = save_root +\"MASKS/\"+ mask_label_filename\n",
        "  mask.save(save_image_root)\n",
        "\n",
        "  for key in tensors:  \n",
        "    image = transforms.ToPILImage()(tensors[key].permute(2,0,1) )\n",
        "    save_image_root = save_root+\"/\"+key+\"/\"\n",
        "    if key == \"ORIGINALS\": \n",
        "      save_image_root = save_image_root + filename\n",
        "    else:\n",
        "      save_image_root = save_image_root + mask_label_filename\n",
        "    image.save(save_image_root)"
      ],
      "execution_count": null,
      "outputs": []
    },
    {
      "cell_type": "code",
      "metadata": {
        "id": "ntkylN0JWfQ3"
      },
      "source": [
        "%%time\n",
        "max, now = len(os.listdir(ROOT_DIR + DATASET  + \"ORIGINALS/\")), 0\n",
        "root, folder = ROOT_DIR+DATASET, \"ORIGINALS/\"\n",
        "for fichero in os.listdir(root+folder):\n",
        "  now = now +1\n",
        "  image_preprocess(root, fichero, ROOT_DIR+\"rolldataset/\")\n",
        "  print_bar(now, max)"
      ],
      "execution_count": null,
      "outputs": []
    },
    {
      "cell_type": "markdown",
      "metadata": {
        "id": "lrURxBYqijLB"
      },
      "source": [
        "## Yellow to doubt"
      ]
    },
    {
      "cell_type": "code",
      "metadata": {
        "id": "4BNJXZwwjHbZ"
      },
      "source": [
        "def numpy_load_image(root):\n",
        "  toTensor = transforms.ToTensor()\n",
        "  tensor = toTensor(Image.open(root).convert('RGB')).permute(1,2,0)\n",
        "  return np.round(tensor.numpy())"
      ],
      "execution_count": null,
      "outputs": []
    },
    {
      "cell_type": "code",
      "metadata": {
        "id": "Ikdy7n5ciiOf"
      },
      "source": [
        "max, now = len(os.listdir(ROOT_DIR + DATASET  + \"ORIGINALS/\")), 0\n",
        "\n",
        "for filename in os.listdir(ROOT_DIR + DATASET  + \"ORIGINALS/\"): \n",
        "  now = now +1\n",
        "\n",
        "  np_image = numpy_load_image(ROOT_DIR + DATASET + \"LABELS/\" + filename.replace(\".\",\"\")+\".png\")\n",
        "  np_image = yellow_to_doubt(np_image)\n",
        "\n",
        "  pil_image = transforms.ToPILImage()(torch.tensor(np_image).permute(2,0,1))\n",
        "  pil_image.save(ROOT_DIR+DATASET  + \"YELLOW/\" + filename.replace(\".\",\"\")+\".png\")\n",
        "  \n",
        "  print_bar(now, max)\n"
      ],
      "execution_count": null,
      "outputs": []
    },
    {
      "cell_type": "code",
      "metadata": {
        "id": "BAR7sadPmSGG"
      },
      "source": [
        "now = 0\n",
        "for filename in os.listdir(ROOT_DIR + DATASET  + \"YELLOW/\"): \n",
        "  now = now +1\n",
        "print(now)"
      ],
      "execution_count": null,
      "outputs": []
    },
    {
      "cell_type": "markdown",
      "metadata": {
        "id": "tsftEMeQn0nt"
      },
      "source": [
        "## Split test"
      ]
    },
    {
      "cell_type": "code",
      "metadata": {
        "id": "Wxnchbj_GmYV"
      },
      "source": [
        "from sklearn.model_selection import train_test_split\n",
        "\n",
        "size = 0.2\n",
        "root = ROOT_DIR + DATASET + DATASET_NAME\n",
        "\n",
        "df  = pd.read_csv(root)\n",
        "df [\"test_CME\"]  = False \n",
        "df [\"test_DME\"]  = False\n",
        "df [\"test_SRD\"]  = False\n",
        "df [\"test_DRT\"]  = False\n",
        "\n",
        "spectralis = df.copy() [df[\"device\"] == \"SPECTRALIS\"]"
      ],
      "execution_count": null,
      "outputs": []
    },
    {
      "cell_type": "code",
      "metadata": {
        "id": "clwWm7ctnzpj"
      },
      "source": [
        "for enfermidade in [\"CME\",\"DRT\",\"DME\", \"SRD\"]:\n",
        "\n",
        "  df_ids = spectralis.groupby([\"id\"]).sum()[enfermidade].to_frame()\n",
        "  positive = df_ids[df_ids[enfermidade] > 0]\n",
        "  negative = df_ids[df_ids[enfermidade] == 0]\n",
        "\n",
        "  #Positive proportion\n",
        "  _, positive_test_ids = train_test_split(list(positive.index), test_size = size )\n",
        "  _, negative_test_ids = train_test_split(list(negative.index), test_size = size )\n",
        "  test_ids =  negative_test_ids + positive_test_ids\n",
        "  df[\"test_\"+enfermidade]  = df.id.isin(test_ids)\n",
        "\n",
        "df.to_csv(root, index=False)"
      ],
      "execution_count": null,
      "outputs": []
    },
    {
      "cell_type": "code",
      "metadata": {
        "id": "PABY4U2Qy8t5"
      },
      "source": [
        "root = ROOT_DIR + DATASET + \"test.csv\"\n",
        "root2 = ROOT_DIR + DATASET + \"./info.csv\"\n",
        "\n",
        "df  = pd.read_csv(root)\n",
        "df = df[[\"root\",'test_CME', 'test_DME', 'test_SRD', 'test_DRT']]\n",
        "\n",
        "df_labels2  = pd.read_csv(root2)\n",
        "df_labels2 = df_labels2.merge(df, on=\"root\", how =\"left\")\n",
        "df_labels2.to_csv(root2, index=False)"
      ],
      "execution_count": 19,
      "outputs": []
    }
  ]
}